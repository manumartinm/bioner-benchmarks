{
 "cells": [
  {
   "cell_type": "markdown",
   "metadata": {},
   "source": [
    "## VANER Benchmarks\n",
    "\n",
    "In this notebook, we will perform the benchmarks for the VANER model. To do this, we will start from the original repository of [VANER](https://github.com/Eulring/VANER), to which we will make some modifications, which can be found in this [forked repository](https://github.com/manumartinm/VANER).\n",
    "\n",
    "Although it will be impossible for us to perform the benchmarks since they have not published the pre-trained models, we will add the version for Mistral and some examples of how we would perform the evaluation."
   ]
  },
  {
   "cell_type": "markdown",
   "metadata": {},
   "source": [
    "### Login to Hugging Face\n",
    "\n",
    "The first thing we are going to do is log in to Hugging Face to be able to access the various `llama` and `mistral` models."
   ]
  },
  {
   "cell_type": "code",
   "execution_count": null,
   "metadata": {
    "colab": {
     "base_uri": "https://localhost:8080/"
    },
    "executionInfo": {
     "elapsed": 26048,
     "status": "ok",
     "timestamp": 1721751659575,
     "user": {
      "displayName": "Manuel Martin",
      "userId": "14060141434620945329"
     },
     "user_tz": -120
    },
    "id": "bXRv2RCU7PLc",
    "outputId": "5a322b19-863c-4d11-bbb0-6924342dff99"
   },
   "outputs": [],
   "source": [
    "%cd ../VANER\n",
    "\n",
    "%poetry run huggingface-cli login"
   ]
  },
  {
   "cell_type": "markdown",
   "metadata": {},
   "source": [
    "### Model Evaluation\n",
    "\n",
    "We are going to evaluate the VANER models on the NER task. To do this, we will use the datasets that we have previously used in the other notebooks."
   ]
  },
  {
   "cell_type": "code",
   "execution_count": null,
   "metadata": {},
   "outputs": [],
   "source": [
    "from datasets_utils import datasets_map\n",
    "import subprocess\n",
    "\n",
    "\n",
    "for dataset in list(datasets_map.keys()):\n",
    "    subprocess.run(\n",
    "      f'poetry run python ./vaner/llama/unllama_eval_vaner.py {dataset} manumartinm/vaner 2',\n",
    "      shell=True\n",
    "    )\n"
   ]
  }
 ],
 "metadata": {
  "accelerator": "TPU",
  "colab": {
   "authorship_tag": "ABX9TyNYGkE7xbB3Qb15jlpKoGGX",
   "gpuType": "V28",
   "machine_shape": "hm",
   "provenance": []
  },
  "kernelspec": {
   "display_name": "Python 3",
   "name": "python3"
  },
  "language_info": {
   "name": "python"
  }
 },
 "nbformat": 4,
 "nbformat_minor": 0
}
