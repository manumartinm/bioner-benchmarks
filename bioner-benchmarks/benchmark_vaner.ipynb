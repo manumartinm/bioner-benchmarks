{
 "cells": [
  {
   "cell_type": "markdown",
   "metadata": {},
   "source": [
    "## Benchmarks VANER\n",
    "\n",
    "En este notebook vamos a realizar los benchmarks del modelo de VANER. Para ello, vamos a partir del repositorio original de [VANER](https://github.com/Eulring/VANER) al cual le realizaremos algunas modificaciones, las cuales se encuentran en este [repositorio forkeado](https://github.com/manumartinm/VANER)\n",
    "\n",
    "Aunque nos resultará imposible realizar los benchmarks ya que no han publicado los modelos pre-entrenados, vamos a añadir la versión para mistral y algunos ejemplos de como realizariamos la evaluación."
   ]
  },
  {
   "cell_type": "markdown",
   "metadata": {},
   "source": [
    "### Login en HuggingFace\n",
    "\n",
    "Lo primero que vamos a hacer es logearnos en HuggingFace para poder acceder a los distintos modelos de `llama` y `mistral`."
   ]
  },
  {
   "cell_type": "code",
   "execution_count": null,
   "metadata": {
    "colab": {
     "base_uri": "https://localhost:8080/"
    },
    "executionInfo": {
     "elapsed": 26048,
     "status": "ok",
     "timestamp": 1721751659575,
     "user": {
      "displayName": "Manuel Martin",
      "userId": "14060141434620945329"
     },
     "user_tz": -120
    },
    "id": "bXRv2RCU7PLc",
    "outputId": "5a322b19-863c-4d11-bbb0-6924342dff99"
   },
   "outputs": [],
   "source": [
    "%cd ../VANER\n",
    "\n",
    "%poetry run huggingface-cli login"
   ]
  },
  {
   "cell_type": "markdown",
   "metadata": {},
   "source": [
    "### Evaluación de los modelos\n",
    "\n",
    "Vamos a realizar la evaluación de los modelos de VANER en la tarea de NER. Para ello, vamos a utilizar los datasets que ya hemos usado previamente en los otros notebooks."
   ]
  },
  {
   "cell_type": "code",
   "execution_count": null,
   "metadata": {},
   "outputs": [],
   "source": [
    "from datasets_utils import datasets_map\n",
    "import subprocess\n",
    "\n",
    "\n",
    "for dataset in list(datasets_map.keys()):\n",
    "    subprocess.run(\n",
    "      f'poetry run python ./vaner/llama/unllama_eval_vaner.py {dataset} manumartinm/vaner 2',\n",
    "      shell=True\n",
    "    )\n"
   ]
  }
 ],
 "metadata": {
  "accelerator": "TPU",
  "colab": {
   "authorship_tag": "ABX9TyNYGkE7xbB3Qb15jlpKoGGX",
   "gpuType": "V28",
   "machine_shape": "hm",
   "provenance": []
  },
  "kernelspec": {
   "display_name": "Python 3",
   "name": "python3"
  },
  "language_info": {
   "name": "python"
  }
 },
 "nbformat": 4,
 "nbformat_minor": 0
}
