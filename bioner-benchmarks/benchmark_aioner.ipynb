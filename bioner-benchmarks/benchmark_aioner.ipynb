{
 "cells": [
  {
   "cell_type": "markdown",
   "metadata": {},
   "source": [
    "## AIONER Benchmarks\n",
    "\n",
    "In this notebook, we will perform benchmarks with AIONER. To do this, we will start from the original repository of [AIONER](https://github.com/ncbi/AIONER), to which several modifications were made. These modifications can be found in this [forked repository](https://github.com/manumartinm/AIONER).\n",
    "\n",
    "Next, we will load the data in PubTator format, and finally, we will obtain the results along with the evaluation metrics, which we will save in a JSON file."
   ]
  },
  {
   "cell_type": "markdown",
   "metadata": {},
   "source": [
    "### Libraries"
   ]
  },
  {
   "cell_type": "code",
   "execution_count": null,
   "metadata": {},
   "outputs": [],
   "source": [
    "from datasets_utils import datasets_map\n",
    "from ner_benchmark_data_wrangler import NERBenchmarkDataWrangler\n",
    "import subprocess\n",
    "import os"
   ]
  },
  {
   "cell_type": "markdown",
   "metadata": {},
   "source": [
    "### Data Loading\n",
    "\n",
    "We are going to load the training, validation, and test data in PubTator format into the `custom_datasets` directory. We will also obtain the vocabulary and save it in the `custom_vocab` directory."
   ]
  },
  {
   "cell_type": "code",
   "execution_count": null,
   "metadata": {
    "colab": {
     "base_uri": "https://localhost:8080/",
     "height": 1000
    },
    "executionInfo": {
     "elapsed": 46922,
     "status": "error",
     "timestamp": 1721847558175,
     "user": {
      "displayName": "Manuel Martin Morante",
      "userId": "05003259262865310532"
     },
     "user_tz": -120
    },
    "id": "zGqoaskPa4bI",
    "outputId": "ec9e1fac-0dd7-4f42-fe57-6cd00e63ce43"
   },
   "outputs": [],
   "source": [
    "\n",
    "metrics = []\n",
    "\n",
    "for dataset in list(datasets_map.keys()):\n",
    "    wrangler = NERBenchmarkDataWrangler(dataset, datasets_map)\n",
    "    train_df = wrangler.get_format_data('train')\n",
    "\n",
    "    valid_df = wrangler.get_format_data('valid')\n",
    "    test_df = wrangler.get_format_data('test')\n",
    "\n",
    "    train_pubtator = wrangler.to_pubtator('train')\n",
    "    test_pubtator = wrangler.to_pubtator('test')\n",
    "    valid_pubtator = wrangler.to_pubtator('valid')\n",
    "    labels = train_df['labels'].unique().tolist() + valid_df['labels'].unique().tolist() + test_df['labels'].unique().tolist()\n",
    "    labels = list(set(labels))\n",
    "\n",
    "    join_texts = train_pubtator + valid_pubtator + test_pubtator\n",
    "\n",
    "    if not os.path.exists(f'./custom_datasets/{dataset}'):\n",
    "        os.makedirs(f'./custom_datasets/{dataset}')\n",
    "\n",
    "    if not os.path.exists(f'./custom_vocab/{dataset}'):\n",
    "        os.makedirs(f'./custom_vocab/{dataset}')\n",
    "\n",
    "    with open(f'./custom_vocab/{dataset}.txt', 'w') as f:\n",
    "        f.write('\\n'.join(labels))\n",
    "\n",
    "    with open(f'./custom_datasets/{dataset}/train.txt', 'w') as f:\n",
    "        f.write('\\n'.join(train_pubtator))\n",
    "\n",
    "    with open(f'./custom_datasets/{dataset}/valid.txt', 'w') as f:\n",
    "        f.write('\\n'.join(valid_pubtator))\n",
    "\n",
    "    with open(f'./custom_datasets/{dataset}/test.txt', 'w') as f:\n",
    "        f.write('\\n'.join(test_pubtator))\n",
    "\n",
    "    subprocess.run(\n",
    "        f'python AIONER/src/Format_Preprocess.py -i ../custom_datasets/{dataset}/ -o ../finetunning_files/{dataset}/',\n",
    "        shell=True\n",
    "    )\n",
    "\n",
    "    subprocess.run(\n",
    "      f'python AIONER/src/AIONER_FineTune.py -t ./finetunning_files/{dataset}.conll -m AIONER/pretrained_models/AIONER/Bioformer-softmax-AIONER.h5 -v ./custom_vocab/{dataset}.txt -e ALL -o finetune/{dataset}/',\n",
    "      shell=True\n",
    "    )"
   ]
  },
  {
   "cell_type": "markdown",
   "metadata": {},
   "source": [
    "### Obtaining Results and Metrics\n",
    "\n",
    "Finally, we will obtain the results using the script provided by AIONER, which is `AIONER_Run.py`, and we will calculate the evaluation metrics with the `Test_Evaluation.py` script. The metrics will be saved in the `custom_metrics` directory."
   ]
  },
  {
   "cell_type": "code",
   "execution_count": null,
   "metadata": {},
   "outputs": [],
   "source": [
    "for dataset in list(datasets_map.keys()):\n",
    "    subprocess.run(\n",
    "      f'python AIONER/src/AIONER_Run.py -i ./custom_datasets/{dataset}/ -m finetune/{dataset}/Bioformer-softmax-AIONER.h5 -v ./custom_vocab/{dataset}.txt -e ALL -o output/{dataset}/',\n",
    "      shell=True\n",
    "    )\n",
    "\n",
    "    subprocess.run(\n",
    "      f'python AIONER/src/Test_Evaluation.py --gold ./custom_datasets/{dataset}/texts.txt --pred ./output/{dataset}/texts.txt -o ./metrics/{dataset}.json',\n",
    "      shell=True\n",
    "    )"
   ]
  }
 ],
 "metadata": {
  "accelerator": "GPU",
  "colab": {
   "gpuType": "T4",
   "provenance": []
  },
  "kernelspec": {
   "display_name": "Python 3",
   "name": "python3"
  },
  "language_info": {
   "codemirror_mode": {
    "name": "ipython",
    "version": 3
   },
   "file_extension": ".py",
   "mimetype": "text/x-python",
   "name": "python",
   "nbconvert_exporter": "python",
   "pygments_lexer": "ipython3",
   "version": "3.11.8"
  }
 },
 "nbformat": 4,
 "nbformat_minor": 0
}
